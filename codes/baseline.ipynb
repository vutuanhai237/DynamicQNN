{
 "cells": [
  {
   "cell_type": "code",
   "execution_count": 47,
   "metadata": {},
   "outputs": [
    {
     "name": "stdout",
     "output_type": "stream",
     "text": [
      "The autoreload extension is already loaded. To reload it, use:\n",
      "  %reload_ext autoreload\n"
     ]
    },
    {
     "name": "stderr",
     "output_type": "stream",
     "text": [
      "[autoreload of classical_part failed: Traceback (most recent call last):\n",
      "  File \"C:\\Users\\haime\\AppData\\Roaming\\Python\\Python38\\site-packages\\IPython\\extensions\\autoreload.py\", line 257, in check\n",
      "    superreload(m, reload, self.old_objects)\n",
      "  File \"C:\\Users\\haime\\AppData\\Roaming\\Python\\Python38\\site-packages\\IPython\\extensions\\autoreload.py\", line 455, in superreload\n",
      "    module = reload(module)\n",
      "  File \"c:\\Users\\haime\\AppData\\Local\\Programs\\Python\\Python38\\lib\\importlib\\__init__.py\", line 169, in reload\n",
      "    _bootstrap._exec(spec, module)\n",
      "  File \"<frozen importlib._bootstrap>\", line 604, in _exec\n",
      "  File \"<frozen importlib._bootstrap_external>\", line 783, in exec_module\n",
      "  File \"<frozen importlib._bootstrap>\", line 219, in _call_with_frames_removed\n",
      "  File \"c:\\Users\\haime\\OneDrive\\Documents\\GitHub\\GeneticCircuit\\codes\\classical_part.py\", line 147, in <module>\n",
      "    def load_mnist_fashion(n_train: int, n_val: int, n_test: int, quanv: types.FunctionType = quantum_model, is_take_xq = False):\n",
      "NameError: name 'quantum_model' is not defined\n",
      "]\n"
     ]
    }
   ],
   "source": [
    "import numpy as np\n",
    "import matplotlib.pyplot as plt\n",
    "from keras import datasets\n",
    "import classical_part, utilities, entangled_circuit\n",
    "import random\n",
    "%load_ext autoreload\n",
    "%autoreload 2"
   ]
  },
  {
   "cell_type": "code",
   "execution_count": 41,
   "metadata": {},
   "outputs": [
    {
     "data": {
      "text/plain": [
       "<matplotlib.image.AxesImage at 0x21ea3115fd0>"
      ]
     },
     "execution_count": 41,
     "metadata": {},
     "output_type": "execute_result"
    },
    {
     "data": {
      "image/png": "[encoded data removed]",
      "text/plain": [
       "<Figure size 432x288 with 1 Axes>"
      ]
     },
     "metadata": {
      "needs_background": "light"
     },
     "output_type": "display_data"
    }
   ],
   "source": [
    "plt.imshow(x_train[0])"
   ]
  },
  {
   "cell_type": "code",
   "execution_count": 48,
   "metadata": {},
   "outputs": [
    {
     "name": "stdout",
     "output_type": "stream",
     "text": [
      "(28, 28)\n"
     ]
    },
    {
     "ename": "QiskitError",
     "evalue": "'Desired statevector length not a positive power of 2.'",
     "output_type": "error",
     "traceback": [
      "\u001b[1;31m---------------------------------------------------------------------------\u001b[0m",
      "\u001b[1;31mQiskitError\u001b[0m                               Traceback (most recent call last)",
      "\u001b[1;32mc:\\Users\\haime\\OneDrive\\Documents\\GitHub\\GeneticCircuit\\codes\\baseline.ipynb Cell 3\u001b[0m in \u001b[0;36m<module>\u001b[1;34m\u001b[0m\n\u001b[1;32m----> <a href='vscode-notebook-cell:/c%3A/Users/haime/OneDrive/Documents/GitHub/GeneticCircuit/codes/baseline.ipynb#ch0000001?line=0'>1</a>\u001b[0m x_train, xq_train, y_train, x_val, xq_val, y_val, x_test, xq_test, y_test \u001b[39m=\u001b[39m classical_part\u001b[39m.\u001b[39;49mload_mnist(\u001b[39m1200\u001b[39;49m, \u001b[39m400\u001b[39;49m, \u001b[39m400\u001b[39;49m, entangled_circuit\u001b[39m.\u001b[39;49mquanvolutional, \u001b[39mTrue\u001b[39;49;00m)\n",
      "File \u001b[1;32mc:\\Users\\haime\\OneDrive\\Documents\\GitHub\\GeneticCircuit\\codes\\classical_part.py:139\u001b[0m, in \u001b[0;36mload_mnist\u001b[1;34m(n_train, n_val, n_test, quanv, is_take_xq)\u001b[0m\n\u001b[0;32m    136\u001b[0m \u001b[39mif\u001b[39;00m is_take_xq:\n\u001b[0;32m    137\u001b[0m     \u001b[39m# Create post-processing data (the data that has gone through the quanvolutional layer)\u001b[39;00m\n\u001b[0;32m    138\u001b[0m     xq_train \u001b[39m=\u001b[39m converter(x_train, \u001b[39mfilter\u001b[39m)\n\u001b[1;32m--> 139\u001b[0m     xq_val \u001b[39m=\u001b[39m converter(x_val, \u001b[39mfilter\u001b[39m)\n\u001b[0;32m    140\u001b[0m     xq_test \u001b[39m=\u001b[39m converter(x_test, \u001b[39mfilter\u001b[39m)\n\u001b[0;32m    141\u001b[0m     \u001b[39mreturn\u001b[39;00m x_train, xq_train, y_train, x_val, xq_val, y_val, x_test, xq_test, y_test\n",
      "File \u001b[1;32mc:\\Users\\haime\\OneDrive\\Documents\\GitHub\\GeneticCircuit\\codes\\classical_part.py:98\u001b[0m, in \u001b[0;36mconverter\u001b[1;34m(data, quanv)\u001b[0m\n\u001b[0;32m     96\u001b[0m \u001b[39mfor\u001b[39;00m quantum_data \u001b[39min\u001b[39;00m data:\n\u001b[0;32m     97\u001b[0m     quantum_datas\u001b[39m.\u001b[39mappend(quanv(quantum_data, \u001b[39mfilter\u001b[39m))\n\u001b[1;32m---> 98\u001b[0m quantum_datas \u001b[39m=\u001b[39m np\u001b[39m.\u001b[39marray(quantum_datas)\n\u001b[0;32m     99\u001b[0m \u001b[39mreturn\u001b[39;00m quantum_datas\n",
      "File \u001b[1;32mc:\\Users\\haime\\OneDrive\\Documents\\GitHub\\GeneticCircuit\\codes\\entangled_circuit.py:13\u001b[0m, in \u001b[0;36mquanvolutional\u001b[1;34m(vector)\u001b[0m\n\u001b[0;32m     11\u001b[0m n \u001b[39m=\u001b[39m \u001b[39mint\u001b[39m(np\u001b[39m.\u001b[39mlog2(vector\u001b[39m.\u001b[39mshape[\u001b[39m0\u001b[39m]))\n\u001b[0;32m     12\u001b[0m qc \u001b[39m=\u001b[39m qiskit\u001b[39m.\u001b[39mQuantumCircuit(n, n)\n\u001b[1;32m---> 13\u001b[0m qc\u001b[39m.\u001b[39;49minitialize(vector, \u001b[39mrange\u001b[39;49m(\u001b[39m0\u001b[39;49m, n))\n\u001b[0;32m     14\u001b[0m thetas \u001b[39m=\u001b[39m np\u001b[39m.\u001b[39mrandom\u001b[39m.\u001b[39muniform(low\u001b[39m=\u001b[39m\u001b[39m0\u001b[39m, high\u001b[39m=\u001b[39m\u001b[39m2\u001b[39m\u001b[39m*\u001b[39mnp\u001b[39m.\u001b[39mpi, size\u001b[39m=\u001b[39m(n,))\n\u001b[0;32m     15\u001b[0m \u001b[39mfor\u001b[39;00m i \u001b[39min\u001b[39;00m \u001b[39mrange\u001b[39m(\u001b[39m1\u001b[39m, n):\n",
      "File \u001b[1;32mc:\\Users\\haime\\AppData\\Local\\Programs\\Python\\Python38\\lib\\site-packages\\qiskit\\extensions\\quantum_initializer\\initializer.py:459\u001b[0m, in \u001b[0;36minitialize\u001b[1;34m(self, params, qubits)\u001b[0m\n\u001b[0;32m    456\u001b[0m     qubits \u001b[39m=\u001b[39m \u001b[39mself\u001b[39m\u001b[39m.\u001b[39m_bit_argument_conversion(qubits, \u001b[39mself\u001b[39m\u001b[39m.\u001b[39mqubits)\n\u001b[0;32m    458\u001b[0m num_qubits \u001b[39m=\u001b[39m \u001b[39mNone\u001b[39;00m \u001b[39mif\u001b[39;00m \u001b[39mnot\u001b[39;00m \u001b[39misinstance\u001b[39m(params, \u001b[39mint\u001b[39m) \u001b[39melse\u001b[39;00m \u001b[39mlen\u001b[39m(qubits)\n\u001b[1;32m--> 459\u001b[0m \u001b[39mreturn\u001b[39;00m \u001b[39mself\u001b[39m\u001b[39m.\u001b[39mappend(Initialize(params, num_qubits), qubits)\n",
      "File \u001b[1;32mc:\\Users\\haime\\AppData\\Local\\Programs\\Python\\Python38\\lib\\site-packages\\qiskit\\extensions\\quantum_initializer\\initializer.py:90\u001b[0m, in \u001b[0;36mInitialize.__init__\u001b[1;34m(self, params, num_qubits)\u001b[0m\n\u001b[0;32m     88\u001b[0m \u001b[39m# Check if param is a power of 2\u001b[39;00m\n\u001b[0;32m     89\u001b[0m \u001b[39mif\u001b[39;00m num_qubits \u001b[39m==\u001b[39m \u001b[39m0\u001b[39m \u001b[39mor\u001b[39;00m \u001b[39mnot\u001b[39;00m num_qubits\u001b[39m.\u001b[39mis_integer():\n\u001b[1;32m---> 90\u001b[0m     \u001b[39mraise\u001b[39;00m QiskitError(\u001b[39m\"\u001b[39m\u001b[39mDesired statevector length not a positive power of 2.\u001b[39m\u001b[39m\"\u001b[39m)\n\u001b[0;32m     92\u001b[0m \u001b[39m# Check if probabilities (amplitudes squared) sum to 1\u001b[39;00m\n\u001b[0;32m     93\u001b[0m \u001b[39mif\u001b[39;00m \u001b[39mnot\u001b[39;00m math\u001b[39m.\u001b[39misclose(\u001b[39msum\u001b[39m(np\u001b[39m.\u001b[39mabsolute(params) \u001b[39m*\u001b[39m\u001b[39m*\u001b[39m \u001b[39m2\u001b[39m), \u001b[39m1.0\u001b[39m, abs_tol\u001b[39m=\u001b[39m_EPS):\n",
      "\u001b[1;31mQiskitError\u001b[0m: 'Desired statevector length not a positive power of 2.'"
     ]
    }
   ],
   "source": [
    "x_train, xq_train, y_train, x_val, xq_val, y_val, x_test, xq_test, y_test = classical_part.load_mnist(1200, 400, 400, entangled_circuit.quanvolutional, True)"
   ]
  },
  {
   "cell_type": "code",
   "execution_count": 58,
   "metadata": {},
   "outputs": [
    {
     "name": "stdout",
     "output_type": "stream",
     "text": [
      "[1. 0. 0. 0. 0. 0. 0. 0. 0. 0. 0. 0. 0. 0. 0. 0. 0. 0. 0. 0. 0. 0. 0. 0.\n",
      " 0. 0. 0. 0. 0. 0. 0. 0.]\n"
     ]
    },
    {
     "data": {
      "image/png": "[encoded data removed]",
      "text/plain": [
       "<Figure size 748.797x385.28 with 1 Axes>"
      ]
     },
     "execution_count": 58,
     "metadata": {},
     "output_type": "execute_result"
    }
   ],
   "source": [
    "import qiskit\n",
    "vector = np.zeros((32))\n",
    "vector[0] = 1\n",
    "print(vector)\n",
    "n = int(np.log2(vector.shape[0]))\n",
    "qc = qiskit.QuantumCircuit(n, n)\n",
    "qc.initialize(vector, range(0, n))\n",
    "thetas = np.random.uniform(low=0, high=2*np.pi, size=(2*n,))\n",
    "k = 0\n",
    "for i in range(0, n):\n",
    "    qc.rx(thetas[k], i)\n",
    "    k += 1\n",
    "for i in range(0, n):\n",
    "    qc.rz(thetas[k], i)\n",
    "    k += 1\n",
    "\n",
    "for i in range(0, n - 1):\n",
    "    qc.cnot(n - i - 1, n - 2 - i)\n",
    "qc.draw('mpl')"
   ]
  },
  {
   "cell_type": "code",
   "execution_count": 15,
   "metadata": {},
   "outputs": [
    {
     "data": {
      "text/plain": [
       "<matplotlib.image.AxesImage at 0x21ea1954d60>"
      ]
     },
     "execution_count": 15,
     "metadata": {},
     "output_type": "execute_result"
    },
    {
     "data": {
      "image/png": "[encoded data removed]",
      "text/plain": [
       "<Figure size 432x288 with 1 Axes>"
      ]
     },
     "metadata": {
      "needs_background": "light"
     },
     "output_type": "display_data"
    }
   ],
   "source": [
    "plt.imshow(x_train[0])"
   ]
  }
 ],
 "metadata": {
  "kernelspec": {
   "display_name": "Python 3.8.0 64-bit",
   "language": "python",
   "name": "python3"
  },
  "language_info": {
   "codemirror_mode": {
    "name": "ipython",
    "version": 3
   },
   "file_extension": ".py",
   "mimetype": "text/x-python",
   "name": "python",
   "nbconvert_exporter": "python",
   "pygments_lexer": "ipython3",
   "version": "3.8.0"
  },
  "orig_nbformat": 4,
  "vscode": {
   "interpreter": {
    "hash": "b6314cf850edbae231b80224200c9e1580e03453e86236ed42ea1b49b1f8d2e3"
   }
  }
 },
 "nbformat": 4,
 "nbformat_minor": 2
}
