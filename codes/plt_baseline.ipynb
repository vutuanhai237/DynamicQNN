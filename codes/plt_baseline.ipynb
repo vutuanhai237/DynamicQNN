{
 "cells": [
  {
   "cell_type": "markdown",
   "metadata": {},
   "source": [
    "25/7/2022. Currrent experiments\n",
    "\n",
    "Test on MNIST and MNIST Fashion\n",
    "\n",
    "- 3 model H1 (fully classical), H2 (quantum - classical), H3 (classical without quantum layer)\n",
    "- Batch size 4, 30 epoch\n",
    "- Train / val / test: 3600 / 1200 / 1200\n",
    "- Data is getted randomly from 60000 train set and 10000 test set\n",
    "- Training and testing is repeated 20 times (each time has different dataset)\n"
   ]
  },
  {
   "cell_type": "code",
   "execution_count": 6,
   "metadata": {},
   "outputs": [
    {
     "data": {
      "text/plain": [
       "<matplotlib.legend.Legend at 0x2a8cc496880>"
      ]
     },
     "execution_count": 6,
     "metadata": {},
     "output_type": "execute_result"
    },
    {
     "data": {
      "image/png": "[encoded data removed]",
      "text/plain": [
       "<Figure size 432x288 with 1 Axes>"
      ]
     },
     "metadata": {
      "needs_background": "light"
     },
     "output_type": "display_data"
    }
   ],
   "source": [
    "import matplotlib.pyplot as plt\n",
    "import numpy as np\n",
    "classical_loss = np.loadtxt('./h1history.txt')\n",
    "hybrid_loss = np.loadtxt('./h2history.txt')\n",
    "h3_loss = np.loadtxt('./h3history.txt')\n",
    "plt.plot(range(1,31), classical_loss, label = \"classical\")\n",
    "plt.plot(range(1,31), hybrid_loss, label = \"hybrid\")\n",
    "#plt.plot(range(1,31), h3_loss, label = \"h3\")\n",
    "plt.xticks(range(1, 31, 2))\n",
    "plt.xlabel('# of epoch')\n",
    "plt.legend()"
   ]
  },
  {
   "cell_type": "markdown",
   "metadata": {},
   "source": [
    "H1 model:  [0.540930449962616, 0.8233333230018616]\n",
    "H2 model:  [0.7405017614364624, 0.8116666674613953]\n",
    "H3 model:  [43.378780364990234, 0.9266666769981384]\n",
    "Batch size: 4, Epoch: 30\n",
    "train / val / test = 3600 / 1200 / 1200"
   ]
  },
  {
   "cell_type": "code",
   "execution_count": null,
   "metadata": {},
   "outputs": [],
   "source": [
    "accs = np.asarray(np.loadtxt('exps/h1history_accuracy.txt'))\n",
    "print()\n",
    "plt.plot(range(1, 31), np.mean(accs, axis = 0), 'k-')\n",
    "plt.fill_between(range(1, 31), np.mean(accs, axis = 0) - np.std(accs, axis = 0), np.mean(accs, axis = 0) + np.std(accs, axis = 0))"
   ]
  },
  {
   "cell_type": "code",
   "execution_count": null,
   "metadata": {},
   "outputs": [],
   "source": [
    "fig = plt.figure()\n",
    "numOfEpoch = 20\n",
    "plt.plot(np.arange(0, numOfEpoch), H3.history['loss'], label='training loss')\n",
    "plt.plot(np.arange(0, numOfEpoch), H3.history['val_loss'], label='validation loss')\n",
    "plt.plot(np.arange(0, numOfEpoch), H3.history['accuracy'], label='accuracy')\n",
    "plt.plot(np.arange(0, numOfEpoch), H3.history['val_accuracy'], label='validation accuracy')\n",
    "plt.title('Accuracy and Loss')\n",
    "plt.xlabel('Epoch')\n",
    "plt.ylabel('Loss|Accuracy')\n",
    "plt.legend()"
   ]
  }
 ],
 "metadata": {
  "kernelspec": {
   "display_name": "Python 3.8.0 64-bit",
   "language": "python",
   "name": "python3"
  },
  "language_info": {
   "codemirror_mode": {
    "name": "ipython",
    "version": 3
   },
   "file_extension": ".py",
   "mimetype": "text/x-python",
   "name": "python",
   "nbconvert_exporter": "python",
   "pygments_lexer": "ipython3",
   "version": "3.8.0"
  },
  "orig_nbformat": 4,
  "vscode": {
   "interpreter": {
    "hash": "b6314cf850edbae231b80224200c9e1580e03453e86236ed42ea1b49b1f8d2e3"
   }
  }
 },
 "nbformat": 4,
 "nbformat_minor": 2
}
