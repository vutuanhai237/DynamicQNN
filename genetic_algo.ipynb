{
 "cells": [
  {
   "cell_type": "markdown",
   "metadata": {},
   "source": [
    "Genetic algorithm example\n",
    "\n",
    "#### 1. First, initial population of random bitstring"
   ]
  },
  {
   "cell_type": "code",
   "execution_count": 110,
   "metadata": {},
   "outputs": [],
   "source": [
    "import numpy as np\n",
    "import numpy as np\n",
    "import matplotlib.pyplot as plt\n",
    "\n",
    "num_bit = 8\n",
    "num_population = 100\n",
    "num_iteration = 100\n",
    "p_crossover = 0.5\n",
    "p_mutation = 0.01"
   ]
  },
  {
   "cell_type": "markdown",
   "metadata": {},
   "source": [
    "#### 2. Consider find the bitstring which has largest value\n",
    "\n",
    "- Evaluate the fitness of a candidate by evaluation func()\n",
    "- Natural selection by pick a random candidate and compare it with k other candidate\n",
    "- Mutation by flip bit string\n",
    "- Cross over by merge 2 parants"
   ]
  },
  {
   "cell_type": "code",
   "execution_count": 111,
   "metadata": {},
   "outputs": [],
   "source": [
    "def evaluation(pop):\n",
    "    return np.sum(pop)\n",
    "def selection(pops, k=3):\n",
    "\tscores = [evaluation(pop) for pop in pops]\n",
    "\t# first random selection\n",
    "\tselection_ix = np.random.randint(len(pops))\n",
    "\tfor ix in np.random.randint(0, len(pops), k-1):\n",
    "\t\t# check if better (e.g. perform a tournament)\n",
    "\t\tif scores[ix] > scores[selection_ix]:\n",
    "\t\t\tselection_ix = ix\n",
    "\treturn pops[selection_ix]\n",
    "\n",
    "def crossover(p1, p2, r_cross):\n",
    "\t# children are copies of parents by default\n",
    "\tc1, c2 = p1.copy(), p2.copy()\n",
    "\t# check for recombination\n",
    "\tif np.random.rand() < r_cross:\n",
    "\t\t# select crossover point that is not on the end of the string\n",
    "\t\tpt = np.random.randint(1, len(p1)-2)\n",
    "\t\t# perform crossover\n",
    "\t\tc1 = p1[:pt] + p2[pt:]\n",
    "\t\tc2 = p2[:pt] + p1[pt:]\n",
    "\treturn [c1, c2]\n",
    "\n",
    "# mutation operator\n",
    "def mutation(pop, r_mut):\n",
    "\tfor i in range(len(pop)):\n",
    "\t\t# check for a mutation\n",
    "\t\tif np.random.rand() < r_mut:\n",
    "\t\t\t# flip the bit\n",
    "\t\t\tpop[i] = 1 - pop[i]\n",
    "\treturn pop"
   ]
  },
  {
   "cell_type": "code",
   "execution_count": 112,
   "metadata": {},
   "outputs": [],
   "source": [
    "pops = [np.random.randint(0, 2, num_bit).tolist() for _ in range(num_population)]\n",
    "child_scores = []\n",
    "for i in range(num_iteration):\n",
    "\tselected = [selection(pops) for _ in range(num_population)]\n",
    "\tchildren = []\n",
    "\tfor i in range(0, num_population, 2):\n",
    "\t\t# get selected parents in pairs\n",
    "\t\tp1, p2 = selected[i], selected[i+1]\n",
    "\t\t# crossover and mutation\n",
    "\t\tfor c in crossover(p1, p2, p_crossover):\n",
    "\t\t\t# mutation\n",
    "\t\t\tmutation(c, p_mutation)\n",
    "\t\t\t# store for next generation\n",
    "\t\t\tchildren.append(c)\n",
    "\tpops = children\n",
    "\tchilds = np.asarray([evaluation(prop) for prop in children])\n",
    "\tchilds = np.reshape(childs, (10, 10))\n",
    "\tchild_scores.append(childs)"
   ]
  },
  {
   "cell_type": "code",
   "execution_count": 123,
   "metadata": {},
   "outputs": [
    {
     "data": {
      "text/plain": [
       "<Figure size 432x288 with 0 Axes>"
      ]
     },
     "metadata": {},
     "output_type": "display_data"
    }
   ],
   "source": [
    "for i in range(0, 20):\n",
    "    plt.imshow(child_scores[i], cmap='binary', interpolation='nearest')\n",
    "    plt.title(\"Iteration \" + str(i) + \"/\" + str(20))\n",
    "    plt.colorbar()\n",
    "    plt.savefig(\"./demo/\" + str(i) +\".png\", dpi = 500)\n",
    "    plt.clf()"
   ]
  },
  {
   "cell_type": "code",
   "execution_count": 126,
   "metadata": {},
   "outputs": [],
   "source": [
    "from PIL import Image\n",
    "import glob\n",
    "\n",
    "# Create the frames\n",
    "frames = []\n",
    "imgs = glob.glob(\"./demo/*.png\")\n",
    "for i in imgs:\n",
    "    new_frame = Image.open(i)\n",
    "    frames.append(new_frame)\n",
    "\n",
    "# Save into a GIF file that loops forever\n",
    "frames[0].save('png_to_gif.gif', format='GIF',\n",
    "               append_images=frames[1:],\n",
    "               save_all=True,\n",
    "               duration=500, loop=0)"
   ]
  }
 ],
 "metadata": {
  "kernelspec": {
   "display_name": "Python 3.8.0 64-bit",
   "language": "python",
   "name": "python3"
  },
  "language_info": {
   "codemirror_mode": {
    "name": "ipython",
    "version": 3
   },
   "file_extension": ".py",
   "mimetype": "text/x-python",
   "name": "python",
   "nbconvert_exporter": "python",
   "pygments_lexer": "ipython3",
   "version": "3.8.0"
  },
  "orig_nbformat": 4,
  "vscode": {
   "interpreter": {
    "hash": "b6314cf850edbae231b80224200c9e1580e03453e86236ed42ea1b49b1f8d2e3"
   }
  }
 },
 "nbformat": 4,
 "nbformat_minor": 2
}
