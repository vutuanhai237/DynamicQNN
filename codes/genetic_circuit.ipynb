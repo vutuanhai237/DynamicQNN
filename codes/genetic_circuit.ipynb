{
 "cells": [
  {
   "cell_type": "code",
   "execution_count": null,
   "metadata": {},
   "outputs": [],
   "source": [
    "from qiskit.circuit.random import random_circuit\n",
    "\n",
    "circ = random_circuit(4, 10, measure=True)\n",
    "circ.draw(output='mpl')"
   ]
  },
  {
   "cell_type": "code",
   "execution_count": 2,
   "metadata": {},
   "outputs": [
    {
     "name": "stdout",
     "output_type": "stream",
     "text": [
      "Model: \"sequential\"\n",
      "_________________________________________________________________\n",
      " Layer (type)                Output Shape              Param #   \n",
      "=================================================================\n",
      " conv2d (Conv2D)             (None, 25, 25, 1)         17        \n",
      "                                                                 \n",
      " max_pooling2d (MaxPooling2D  (None, 12, 12, 1)        0         \n",
      " )                                                               \n",
      "                                                                 \n",
      " conv2d_1 (Conv2D)           (None, 9, 9, 1)           17        \n",
      "                                                                 \n",
      " max_pooling2d_1 (MaxPooling  (None, 4, 4, 1)          0         \n",
      " 2D)                                                             \n",
      "                                                                 \n",
      " flatten (Flatten)           (None, 16)                0         \n",
      "                                                                 \n",
      " dense (Dense)               (None, 1024)              17408     \n",
      "                                                                 \n",
      " dropout (Dropout)           (None, 1024)              0         \n",
      "                                                                 \n",
      " dense_1 (Dense)             (None, 10)                10250     \n",
      "                                                                 \n",
      "=================================================================\n",
      "Total params: 27,692\n",
      "Trainable params: 27,692\n",
      "Non-trainable params: 0\n",
      "_________________________________________________________________\n",
      "None\n"
     ]
    }
   ],
   "source": [
    "import numpy as np\n",
    "import classical_part, entangled_circuit, constant\n",
    "\n",
    "import utilities, time\n",
    "x_train, y_train, x_val, y_val, x_test, y_test = classical_part.load_mnist(\n",
    "        12, 3, 3, entangled_circuit.quanvolutional)\n",
    "hmodel = classical_part.classical_model()\n",
    "hmodel.compile(loss='categorical_crossentropy',\n",
    "                  optimizer='adam',\n",
    "                  metrics=['accuracy'])\n",
    "H2 = hmodel.fit(x_train, y_train, validation_data=(x_val, y_val),\n",
    "            batch_size=4, epochs=10, verbose=0)\n",
    "print(hmodel.summary())\n"
   ]
  },
  {
   "cell_type": "code",
   "execution_count": 2,
   "metadata": {},
   "outputs": [
    {
     "data": {
      "text/plain": [
       "1"
      ]
     },
     "execution_count": 2,
     "metadata": {},
     "output_type": "execute_result"
    }
   ],
   "source": [
    "constant.conv_num_filter"
   ]
  },
  {
   "cell_type": "code",
   "execution_count": 3,
   "metadata": {},
   "outputs": [
    {
     "data": {
      "image/png": "[encoded data removed]",
      "text/plain": [
       "<Figure size 267.197x325.08 with 1 Axes>"
      ]
     },
     "execution_count": 3,
     "metadata": {},
     "output_type": "execute_result"
    }
   ],
   "source": [
    "import qiskit\n",
    "entangled_circuit.quanvolutional(qiskit.QuantumCircuit(4,4)).draw('mpl')"
   ]
  },
  {
   "cell_type": "code",
   "execution_count": 4,
   "metadata": {},
   "outputs": [],
   "source": [
    "def create_stargraph_ansatz(qc: qiskit.QuantumCircuit, thetas: np.ndarray, num_layers: int):\n",
    "    \"\"\"Create star graph ansatz\n",
    "\n",
    "    Args:\n",
    "        - qc (qiskit.QuantumCircuit): init circuit\n",
    "        - thetas (np.ndarray): parameters\n",
    "\n",
    "    Returns:\n",
    "        - qiskit.QuantumCircuit: init circuit\n",
    "    \"\"\"\n",
    "    n = qc.num_qubits\n",
    "    if len(thetas) != num_layers*(2*n - 2):\n",
    "        raise ValueError(\n",
    "            'The number of parameter must be num_layers * (2 * n - 2)')\n",
    "\n",
    "    j = 0\n",
    "    for l in range(0, num_layers, 1):\n",
    "        for i in range(0, n):\n",
    "            qc.ry(thetas[j], i)\n",
    "            j += 1\n",
    "        qc.cz(0, 1)\n",
    "        for i in range(2, n):\n",
    "            qc.ry(thetas[j], 0)\n",
    "            j += 1\n",
    "            qc.cz(0, i)\n",
    "    return qc"
   ]
  },
  {
   "cell_type": "code",
   "execution_count": 6,
   "metadata": {},
   "outputs": [
    {
     "data": {
      "image/png": "[encoded data removed]",
      "text/plain": [
       "<Figure size 447.797x325.08 with 1 Axes>"
      ]
     },
     "execution_count": 6,
     "metadata": {},
     "output_type": "execute_result"
    }
   ],
   "source": [
    "create_stargraph_ansatz(qiskit.QuantumCircuit(4,4), np.random.uniform(0, 1, (2 * 4 - 2)), 1).draw('mpl')"
   ]
  }
 ],
 "metadata": {
  "kernelspec": {
   "display_name": "Python 3.8.0 64-bit",
   "language": "python",
   "name": "python3"
  },
  "language_info": {
   "codemirror_mode": {
    "name": "ipython",
    "version": 3
   },
   "file_extension": ".py",
   "mimetype": "text/x-python",
   "name": "python",
   "nbconvert_exporter": "python",
   "pygments_lexer": "ipython3",
   "version": "3.8.0"
  },
  "orig_nbformat": 4,
  "vscode": {
   "interpreter": {
    "hash": "b6314cf850edbae231b80224200c9e1580e03453e86236ed42ea1b49b1f8d2e3"
   }
  }
 },
 "nbformat": 4,
 "nbformat_minor": 2
}
