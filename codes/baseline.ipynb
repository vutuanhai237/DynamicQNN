{
 "cells": [
  {
   "cell_type": "code",
   "execution_count": 1,
   "metadata": {},
   "outputs": [],
   "source": [
    "import qiskit\n",
    "import numpy as np, matplotlib.pyplot as plt"
   ]
  },
  {
   "cell_type": "code",
   "execution_count": 15,
   "metadata": {},
   "outputs": [
    {
     "name": "stdout",
     "output_type": "stream",
     "text": [
      "The autoreload extension is already loaded. To reload it, use:\n",
      "  %reload_ext autoreload\n"
     ]
    }
   ],
   "source": [
    "import numpy as np\n",
    "import matplotlib.pyplot as plt\n",
    "from keras.utils import np_utils\n",
    "import keras\n",
    "from keras.datasets import mnist\n",
    "import classical_part\n",
    "%load_ext autoreload\n",
    "%autoreload 2"
   ]
  },
  {
   "cell_type": "code",
   "execution_count": 20,
   "metadata": {},
   "outputs": [],
   "source": [
    "(x_train, y_train), (x_test, y_test) = keras.datasets.mnist.load_data()\n",
    "x_val, y_val = x_train[50:60,:], y_train[50:60]\n",
    "x_train, y_train = x_train[:50,:], y_train[:50]"
   ]
  },
  {
   "cell_type": "code",
   "execution_count": 21,
   "metadata": {},
   "outputs": [
    {
     "data": {
      "text/plain": [
       "<matplotlib.image.AxesImage at 0x12ea5b441c0>"
      ]
     },
     "execution_count": 21,
     "metadata": {},
     "output_type": "execute_result"
    },
    {
     "data": {
      "image/png": "[encoded data removed]",
      "text/plain": [
       "<Figure size 432x288 with 1 Axes>"
      ]
     },
     "metadata": {
      "needs_background": "light"
     },
     "output_type": "display_data"
    }
   ],
   "source": [
    "plt.imshow(x_train[0])"
   ]
  },
  {
   "cell_type": "code",
   "execution_count": 22,
   "metadata": {},
   "outputs": [],
   "source": [
    "# 3. Reshape lại dữ liệu cho đúng kích thước mà keras yêu cầu\n",
    "x_train = x_train.reshape(x_train.shape[0], 28, 28, 1)\n",
    "X_val = x_val.reshape(x_val.shape[0], 28, 28, 1)\n",
    "X_test = x_test.reshape(x_test.shape[0], 28, 28, 1)"
   ]
  },
  {
   "cell_type": "code",
   "execution_count": 23,
   "metadata": {},
   "outputs": [
    {
     "data": {
      "text/plain": [
       "<matplotlib.image.AxesImage at 0x12ea5b99070>"
      ]
     },
     "execution_count": 23,
     "metadata": {},
     "output_type": "execute_result"
    },
    {
     "data": {
      "image/png": "[encoded data removed]",
      "text/plain": [
       "<Figure size 432x288 with 1 Axes>"
      ]
     },
     "metadata": {
      "needs_background": "light"
     },
     "output_type": "display_data"
    }
   ],
   "source": [
    "plt.imshow(x_train[0])"
   ]
  },
  {
   "cell_type": "code",
   "execution_count": 40,
   "metadata": {},
   "outputs": [],
   "source": [
    "# # 3. Reshape lại dữ liệu cho đúng kích thước mà keras yêu cầu\n",
    "# xq_train = []\n",
    "# for x_train_item in x_train:\n",
    "#     xq_train.append(classical_part.quantum_model(x_train_item))\n",
    "# xq_test = []\n",
    "# for x_test_item in x_train:\n",
    "#     xq_test.append(classical_part.quantum_model(x_test_item))\n",
    "xq_train = []\n",
    "for x_train_item in x_train:\n",
    "    xq_train.append(classical_part.quantum_model(x_train_item))\n",
    "xq_train = np.array(xq_train)\n",
    "\n",
    "xq_val = []\n",
    "for x_val_item in x_val:\n",
    "    xq_val.append(classical_part.quantum_model(x_val_item))\n",
    "xq_val = np.array(xq_val)"
   ]
  },
  {
   "cell_type": "code",
   "execution_count": 29,
   "metadata": {},
   "outputs": [
    {
     "name": "stdout",
     "output_type": "stream",
     "text": [
      "(10, 14, 14, 4)\n"
     ]
    }
   ],
   "source": [
    "print(xq_val.shape)"
   ]
  },
  {
   "cell_type": "code",
   "execution_count": 30,
   "metadata": {},
   "outputs": [
    {
     "name": "stdout",
     "output_type": "stream",
     "text": [
      "(10, 28, 28)\n"
     ]
    }
   ],
   "source": [
    "print(x_val.shape)"
   ]
  },
  {
   "cell_type": "code",
   "execution_count": 33,
   "metadata": {},
   "outputs": [
    {
     "name": "stdout",
     "output_type": "stream",
     "text": [
      "Dữ liệu y ban đầu  [0. 0. 0. 0. 0. 1. 0. 0. 0. 0.]\n",
      "Dữ liệu y sau one-hot encoding  [0. 0. 0. 0. 0. 1. 0. 0. 0. 0.]\n"
     ]
    }
   ],
   "source": [
    "# 4. One hot encoding label (Y)\n",
    "y_train = np_utils.to_categorical(y_train, 10)\n",
    "y_val = np_utils.to_categorical(y_val, 10)\n",
    "y_test = np_utils.to_categorical(y_test, 10)\n",
    "print('Dữ liệu y ban đầu ', y_train[0])\n",
    "print('Dữ liệu y sau one-hot encoding ',y_train[0])"
   ]
  },
  {
   "cell_type": "code",
   "execution_count": 38,
   "metadata": {},
   "outputs": [
    {
     "data": {
      "text/plain": [
       "<matplotlib.image.AxesImage at 0x12ea03fd070>"
      ]
     },
     "execution_count": 38,
     "metadata": {},
     "output_type": "execute_result"
    },
    {
     "data": {
      "image/png": "[encoded data removed]",
      "text/plain": [
       "<Figure size 432x288 with 1 Axes>"
      ]
     },
     "metadata": {
      "needs_background": "light"
     },
     "output_type": "display_data"
    }
   ],
   "source": [
    "plt.imshow(x_val[0])"
   ]
  },
  {
   "cell_type": "code",
   "execution_count": 31,
   "metadata": {},
   "outputs": [],
   "source": [
    "cmodel = classical_part.classical_model()\n",
    "hmodel = classical_part.hybrid_model()"
   ]
  },
  {
   "cell_type": "code",
   "execution_count": 41,
   "metadata": {},
   "outputs": [
    {
     "name": "stdout",
     "output_type": "stream",
     "text": [
      "Epoch 1/10\n",
      "13/13 [==============================] - 1s 40ms/step - loss: 2.3905 - accuracy: 0.1400 - val_loss: 2.3180 - val_accuracy: 0.1000\n",
      "Epoch 2/10\n",
      "13/13 [==============================] - 0s 19ms/step - loss: 2.2785 - accuracy: 0.1400 - val_loss: 2.3143 - val_accuracy: 0.1000\n",
      "Epoch 3/10\n",
      "13/13 [==============================] - 0s 34ms/step - loss: 2.2565 - accuracy: 0.2400 - val_loss: 2.2734 - val_accuracy: 0.4000\n",
      "Epoch 4/10\n",
      "13/13 [==============================] - 0s 29ms/step - loss: 2.1865 - accuracy: 0.1600 - val_loss: 2.1899 - val_accuracy: 0.4000\n",
      "Epoch 5/10\n",
      "13/13 [==============================] - 0s 28ms/step - loss: 2.0041 - accuracy: 0.4200 - val_loss: 1.8839 - val_accuracy: 0.6000\n",
      "Epoch 6/10\n",
      "13/13 [==============================] - 0s 32ms/step - loss: 1.6345 - accuracy: 0.6200 - val_loss: 1.5276 - val_accuracy: 0.6000\n",
      "Epoch 7/10\n",
      "13/13 [==============================] - 0s 25ms/step - loss: 1.0322 - accuracy: 0.8200 - val_loss: 1.1243 - val_accuracy: 0.7000\n",
      "Epoch 8/10\n",
      "13/13 [==============================] - 0s 21ms/step - loss: 0.5761 - accuracy: 0.9000 - val_loss: 0.9356 - val_accuracy: 0.7000\n",
      "Epoch 9/10\n",
      "13/13 [==============================] - 0s 22ms/step - loss: 0.3140 - accuracy: 1.0000 - val_loss: 0.9494 - val_accuracy: 0.7000\n",
      "Epoch 10/10\n",
      "13/13 [==============================] - 0s 25ms/step - loss: 0.2012 - accuracy: 0.9800 - val_loss: 0.9977 - val_accuracy: 0.7000\n"
     ]
    }
   ],
   "source": [
    "cmodel.compile(loss='categorical_crossentropy',\n",
    "              optimizer='adam',\n",
    "              metrics=['accuracy'])\n",
    "H1 = cmodel.fit(x_train, y_train, validation_data=(x_val, y_val),\n",
    "          batch_size=4, epochs=10, verbose=1)"
   ]
  },
  {
   "cell_type": "code",
   "execution_count": 42,
   "metadata": {},
   "outputs": [
    {
     "name": "stdout",
     "output_type": "stream",
     "text": [
      "Epoch 1/10\n",
      "13/13 [==============================] - 1s 31ms/step - loss: 2.3723 - accuracy: 0.1600 - val_loss: 2.2869 - val_accuracy: 0.2000\n",
      "Epoch 2/10\n",
      "13/13 [==============================] - 0s 7ms/step - loss: 2.1769 - accuracy: 0.2400 - val_loss: 2.1671 - val_accuracy: 0.2000\n",
      "Epoch 3/10\n",
      "13/13 [==============================] - 0s 8ms/step - loss: 2.0805 - accuracy: 0.2600 - val_loss: 2.1106 - val_accuracy: 0.2000\n",
      "Epoch 4/10\n",
      "13/13 [==============================] - 0s 8ms/step - loss: 1.9889 - accuracy: 0.4400 - val_loss: 2.0978 - val_accuracy: 0.3000\n",
      "Epoch 5/10\n",
      "13/13 [==============================] - 0s 12ms/step - loss: 1.9129 - accuracy: 0.4400 - val_loss: 2.0514 - val_accuracy: 0.2000\n",
      "Epoch 6/10\n",
      "13/13 [==============================] - 0s 8ms/step - loss: 1.8452 - accuracy: 0.6400 - val_loss: 2.0547 - val_accuracy: 0.4000\n",
      "Epoch 7/10\n",
      "13/13 [==============================] - 0s 9ms/step - loss: 1.7651 - accuracy: 0.6600 - val_loss: 1.9835 - val_accuracy: 0.4000\n",
      "Epoch 8/10\n",
      "13/13 [==============================] - 0s 17ms/step - loss: 1.6857 - accuracy: 0.6600 - val_loss: 1.9392 - val_accuracy: 0.4000\n",
      "Epoch 9/10\n",
      "13/13 [==============================] - 0s 8ms/step - loss: 1.6163 - accuracy: 0.6800 - val_loss: 1.9117 - val_accuracy: 0.4000\n",
      "Epoch 10/10\n",
      "13/13 [==============================] - 0s 9ms/step - loss: 1.5890 - accuracy: 0.7000 - val_loss: 1.8945 - val_accuracy: 0.4000\n"
     ]
    }
   ],
   "source": [
    "hmodel.compile(loss='categorical_crossentropy',\n",
    "              optimizer='adam',\n",
    "              metrics=['accuracy'])\n",
    "H2 = hmodel.fit(xq_train, y_train, validation_data=(xq_val, y_val),\n",
    "          batch_size=4, epochs=10, verbose=1)"
   ]
  },
  {
   "cell_type": "code",
   "execution_count": 14,
   "metadata": {},
   "outputs": [
    {
     "name": "stdout",
     "output_type": "stream",
     "text": [
      "79/79 [==============================] - 6s 71ms/step - loss: 0.6002 - accuracy: 0.8334\n",
      "test loss, test acc: [0.6002498269081116, 0.8334000110626221]\n"
     ]
    }
   ],
   "source": [
    "results = model.evaluate(X_test, Y_test, batch_size=128)\n",
    "print(\"test loss, test acc:\", results)"
   ]
  },
  {
   "cell_type": "code",
   "execution_count": 43,
   "metadata": {},
   "outputs": [
    {
     "data": {
      "text/plain": [
       "<matplotlib.legend.Legend at 0x12ea0170af0>"
      ]
     },
     "execution_count": 43,
     "metadata": {},
     "output_type": "execute_result"
    },
    {
     "data": {
      "image/png": "[encoded data removed]",
      "text/plain": [
       "<Figure size 432x288 with 1 Axes>"
      ]
     },
     "metadata": {
      "needs_background": "light"
     },
     "output_type": "display_data"
    }
   ],
   "source": [
    "# 8. Vẽ đồ thị loss, accuracy của traning set và validation set\n",
    "fig = plt.figure()\n",
    "numOfEpoch = 10\n",
    "plt.plot(np.arange(0, numOfEpoch), H1.history['loss'], label='training loss')\n",
    "plt.plot(np.arange(0, numOfEpoch), H1.history['val_loss'], label='validation loss')\n",
    "plt.plot(np.arange(0, numOfEpoch), H1.history['accuracy'], label='accuracy')\n",
    "plt.plot(np.arange(0, numOfEpoch), H1.history['val_accuracy'], label='validation accuracy')\n",
    "plt.title('Accuracy and Loss')\n",
    "plt.xlabel('Epoch')\n",
    "plt.ylabel('Loss|Accuracy')\n",
    "plt.legend()"
   ]
  },
  {
   "cell_type": "code",
   "execution_count": 44,
   "metadata": {},
   "outputs": [
    {
     "data": {
      "text/plain": [
       "<matplotlib.legend.Legend at 0x12ea0cce430>"
      ]
     },
     "execution_count": 44,
     "metadata": {},
     "output_type": "execute_result"
    },
    {
     "data": {
      "image/png": "[encoded data removed]",
      "text/plain": [
       "<Figure size 432x288 with 1 Axes>"
      ]
     },
     "metadata": {
      "needs_background": "light"
     },
     "output_type": "display_data"
    }
   ],
   "source": [
    "# 8. Vẽ đồ thị loss, accuracy của traning set và validation set\n",
    "fig = plt.figure()\n",
    "numOfEpoch = 10\n",
    "plt.plot(np.arange(0, numOfEpoch), H2.history['loss'], label='training loss')\n",
    "plt.plot(np.arange(0, numOfEpoch), H2.history['val_loss'], label='validation loss')\n",
    "plt.plot(np.arange(0, numOfEpoch), H2.history['accuracy'], label='accuracy')\n",
    "plt.plot(np.arange(0, numOfEpoch), H2.history['val_accuracy'], label='validation accuracy')\n",
    "plt.title('Accuracy and Loss')\n",
    "plt.xlabel('Epoch')\n",
    "plt.ylabel('Loss|Accuracy')\n",
    "plt.legend()"
   ]
  },
  {
   "cell_type": "code",
   "execution_count": 48,
   "metadata": {},
   "outputs": [],
   "source": [
    "H1.history['loss']\n",
    "np.savetxt('h1history.txt', H1.history['loss'])"
   ]
  },
  {
   "cell_type": "code",
   "execution_count": 46,
   "metadata": {},
   "outputs": [
    {
     "data": {
      "text/plain": [
       "[2.3723416328430176,\n",
       " 2.1769156455993652,\n",
       " 2.0804860591888428,\n",
       " 1.9888917207717896,\n",
       " 1.9128963947296143,\n",
       " 1.8452332019805908,\n",
       " 1.7650926113128662,\n",
       " 1.6856759786605835,\n",
       " 1.616266131401062,\n",
       " 1.5889724493026733]"
      ]
     },
     "execution_count": 46,
     "metadata": {},
     "output_type": "execute_result"
    }
   ],
   "source": [
    "H2.history['loss']"
   ]
  }
 ],
 "metadata": {
  "kernelspec": {
   "display_name": "Python 3.8.0 64-bit",
   "language": "python",
   "name": "python3"
  },
  "language_info": {
   "codemirror_mode": {
    "name": "ipython",
    "version": 3
   },
   "file_extension": ".py",
   "mimetype": "text/x-python",
   "name": "python",
   "nbconvert_exporter": "python",
   "pygments_lexer": "ipython3",
   "version": "3.8.0"
  },
  "orig_nbformat": 4,
  "vscode": {
   "interpreter": {
    "hash": "b6314cf850edbae231b80224200c9e1580e03453e86236ed42ea1b49b1f8d2e3"
   }
  }
 },
 "nbformat": 4,
 "nbformat_minor": 2
}
