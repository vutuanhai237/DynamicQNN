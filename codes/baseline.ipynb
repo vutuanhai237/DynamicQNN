{
 "cells": [
  {
   "cell_type": "code",
   "execution_count": 15,
   "metadata": {},
   "outputs": [
    {
     "name": "stdout",
     "output_type": "stream",
     "text": [
      "The autoreload extension is already loaded. To reload it, use:\n",
      "  %reload_ext autoreload\n"
     ]
    }
   ],
   "source": [
    "import numpy as np\n",
    "import matplotlib.pyplot as plt\n",
    "from keras import datasets\n",
    "import classical_part, utilities, entangled_circuit\n",
    "import random, qiskit\n",
    "%load_ext autoreload\n",
    "%autoreload 2"
   ]
  },
  {
   "cell_type": "code",
   "execution_count": 7,
   "metadata": {},
   "outputs": [
    {
     "data": {
      "image/png": "[encoded data removed]",
      "text/plain": [
       "<Figure size 267.197x325.08 with 1 Axes>"
      ]
     },
     "execution_count": 7,
     "metadata": {},
     "output_type": "execute_result"
    }
   ],
   "source": [
    "n = 4\n",
    "qc = qiskit.QuantumCircuit(n, n)\n",
    "qc = entangled_circuit.quanvolutional(qc)\n",
    "qc.draw('mpl')"
   ]
  },
  {
   "cell_type": "code",
   "execution_count": 16,
   "metadata": {},
   "outputs": [
    {
     "name": "stdout",
     "output_type": "stream",
     "text": [
      "[3.18125929 2.27053764 4.18687009]\n",
      "[2, 1, 0]\n"
     ]
    },
    {
     "data": {
      "image/png": "[encoded data removed]",
      "text/plain": [
       "<Figure size 267.197x325.08 with 1 Axes>"
      ]
     },
     "execution_count": 16,
     "metadata": {},
     "output_type": "execute_result"
    }
   ],
   "source": [
    "n = 4\n",
    "qc = qiskit.QuantumCircuit(n, n)\n",
    "thetas = np.random.uniform(low=0, high=2*np.pi, size=(n*n + 3*n,))\n",
    "qc = entangled_circuit.decrease_r_layer(qc, thetas[2*n:2*n + n - 1], type = 'rz', control_index = n - 1)\n",
    "qc.draw('mpl')"
   ]
  },
  {
   "cell_type": "code",
   "execution_count": 2,
   "metadata": {},
   "outputs": [],
   "source": [
    "x_train, y_train, x_val, y_val, x_test, y_test = classical_part.load_mnist(\n",
    "                  1200, 300, 300, False)"
   ]
  },
  {
   "cell_type": "code",
   "execution_count": 3,
   "metadata": {},
   "outputs": [
    {
     "data": {
      "text/plain": [
       "<matplotlib.image.AxesImage at 0x2447cf02190>"
      ]
     },
     "execution_count": 3,
     "metadata": {},
     "output_type": "execute_result"
    },
    {
     "data": {
      "image/png": "[encoded data removed]",
      "text/plain": [
       "<Figure size 432x288 with 1 Axes>"
      ]
     },
     "metadata": {
      "needs_background": "light"
     },
     "output_type": "display_data"
    }
   ],
   "source": [
    "plt.imshow(x_train[0])"
   ]
  },
  {
   "cell_type": "code",
   "execution_count": 12,
   "metadata": {},
   "outputs": [
    {
     "name": "stdout",
     "output_type": "stream",
     "text": [
      "[3.43421668 1.40391258 0.31251935 3.08861863 4.87685459 0.52678866\n",
      " 3.2697365  5.56802612]\n",
      "[0.15464795 0.30263307 0.2100547  0.36014387 0.04663986 0.30052902\n",
      " 0.11396958 0.3597932  0.22338038 0.02489797 0.34296077 0.03401554\n",
      " 0.28755402 0.13641282 0.40362765 0.20549592]\n",
      "[0.80373954 2.19575119 4.25059583 5.01029688 5.33127705 5.57160576\n",
      " 6.1051789  5.06704521]\n",
      "[0.19359438 0.51283474 0.0433464  0.21292453 0.0820067  0.25070619\n",
      " 0.0169871  0.13472529 0.31836171 0.12125276 0.04803249 0.0263593\n",
      " 0.62822988 0.18568659 0.12301005 0.03075251]\n"
     ]
    }
   ],
   "source": [
    "sub_image = x_train[0][5:5 + 4, 5:5 + 4] \n",
    "sub_image = np.squeeze(sub_image)\n",
    "sub_image = sub_image / np.linalg.norm(sub_image)\n",
    "print(classical_part.connector(sub_image.flatten(), entangled_circuit.quanvolutional1))\n"
   ]
  },
  {
   "cell_type": "code",
   "execution_count": 27,
   "metadata": {},
   "outputs": [
    {
     "name": "stdout",
     "output_type": "stream",
     "text": [
      "(7, 7, 20)\n"
     ]
    }
   ],
   "source": [
    "print(classical_part.quanv(x_train[0], entangled_circuit.quanvolutional1).shape)"
   ]
  },
  {
   "cell_type": "code",
   "execution_count": 28,
   "metadata": {},
   "outputs": [],
   "source": [
    "x_train, xq_train, y_train, x_val, xq_val, y_val, x_test, xq_test, y_test = classical_part.load_mnist_fashion(\n",
    "                  12, 4, 4, entangled_circuit.quanvolutional1, True)\n",
    "            \n",
    "hmodel = classical_part.hybrid_model()\n",
    "hmodel.compile(loss='categorical_crossentropy',\n",
    "            optimizer='adam',\n",
    "            metrics=['accuracy'])\n",
    "H2 = hmodel.fit(xq_train, y_train, validation_data=(xq_val, y_val),\n",
    "        batch_size=1, epochs=100, verbose=0)"
   ]
  },
  {
   "cell_type": "code",
   "execution_count": 29,
   "metadata": {},
   "outputs": [
    {
     "data": {
      "text/plain": [
       "[<matplotlib.lines.Line2D at 0x2443688d070>]"
      ]
     },
     "execution_count": 29,
     "metadata": {},
     "output_type": "execute_result"
    },
    {
     "data": {
      "image/png": "[encoded data removed]",
      "text/plain": [
       "<Figure size 432x288 with 1 Axes>"
      ]
     },
     "metadata": {
      "needs_background": "light"
     },
     "output_type": "display_data"
    }
   ],
   "source": [
    "plt.plot(H2.history['loss'])"
   ]
  }
 ],
 "metadata": {
  "kernelspec": {
   "display_name": "Python 3.8.0 64-bit",
   "language": "python",
   "name": "python3"
  },
  "language_info": {
   "codemirror_mode": {
    "name": "ipython",
    "version": 3
   },
   "file_extension": ".py",
   "mimetype": "text/x-python",
   "name": "python",
   "nbconvert_exporter": "python",
   "pygments_lexer": "ipython3",
   "version": "3.8.0"
  },
  "orig_nbformat": 4,
  "vscode": {
   "interpreter": {
    "hash": "b6314cf850edbae231b80224200c9e1580e03453e86236ed42ea1b49b1f8d2e3"
   }
  }
 },
 "nbformat": 4,
 "nbformat_minor": 2
}
