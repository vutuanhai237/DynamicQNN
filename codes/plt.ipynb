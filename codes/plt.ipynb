{
 "cells": [
  {
   "cell_type": "code",
   "execution_count": 5,
   "metadata": {},
   "outputs": [
    {
     "name": "stderr",
     "output_type": "stream",
     "text": [
      "No artists with labels found to put in legend.  Note that artists whose label start with an underscore are ignored when legend() is called with no argument.\n"
     ]
    },
    {
     "data": {
      "text/plain": [
       "<matplotlib.legend.Legend at 0x182f6da1400>"
      ]
     },
     "execution_count": 5,
     "metadata": {},
     "output_type": "execute_result"
    },
    {
     "data": {
      "image/png": "[encoded data removed]",
      "text/plain": [
       "<Figure size 432x288 with 1 Axes>"
      ]
     },
     "metadata": {
      "needs_background": "light"
     },
     "output_type": "display_data"
    }
   ],
   "source": [
    "import matplotlib.pyplot as plt\n",
    "import numpy as np\n",
    "x = list(range(1, 1000))\n",
    "y = []\n",
    "for i in x:\n",
    "    y.append((np.log2(i)))\n",
    "\n",
    "plt.plot(x, y)\n",
    "plt.ylabel(\"Number of qubits\")\n",
    "plt.xlabel(\"Filter size\")\n",
    "plt.legend()"
   ]
  },
  {
   "cell_type": "code",
   "execution_count": 25,
   "metadata": {},
   "outputs": [],
   "source": [
    "import classical_part, entangled_circuit, numpy as np\n",
    "import matplotlib.pyplot as plt\n",
    "counts_train = []\n",
    "counts_val = []\n",
    "counts_test = []\n",
    "for _ in range(0, 20):\n",
    "    _, y_train, _, y_val, _, y_test = classical_part.load_mnist(\n",
    "            1200, 300, 300, entangled_circuit.quanvolutional)\n",
    "    y_train = list(np.argmax(y_train, axis=1))\n",
    "    y_val = list(np.argmax(y_val, axis=1))\n",
    "    y_test = list(np.argmax(y_test, axis=1))\n",
    "\n",
    "    temp_train = np.zeros((10))\n",
    "    temp_val = np.zeros((10))\n",
    "    temp_test = np.zeros((10))\n",
    "    for i in range(0, 10):\n",
    "        temp_train[i] = y_train.count(i)\n",
    "        temp_val[i] += (y_val.count(i))\n",
    "        temp_test[i] += (y_test.count(i))\n",
    "    counts_train.append(temp_train)\n",
    "    counts_val.append(temp_val)\n",
    "    counts_test.append(temp_test)\n",
    "counts_train = np.asarray(counts_train)\n",
    "counts_val = np.asarray(counts_val)\n",
    "counts_test = np.asarray(counts_test)\n"
   ]
  },
  {
   "cell_type": "code",
   "execution_count": 34,
   "metadata": {},
   "outputs": [
    {
     "data": {
      "image/png": "[encoded data removed]",
      "text/plain": [
       "<Figure size 432x288 with 1 Axes>"
      ]
     },
     "metadata": {
      "needs_background": "light"
     },
     "output_type": "display_data"
    }
   ],
   "source": [
    "labels = range(0, 10)\n",
    "train_means = np.mean(counts_train, axis = 0)\n",
    "val_means = np.mean(counts_val, axis = 0)\n",
    "test_means = np.mean(counts_test, axis = 0)\n",
    "train_std = np.std(counts_train, axis = 0)\n",
    "val_std = np.std(counts_val, axis = 0)\n",
    "test_std = np.std(counts_test, axis = 0)\n",
    "width = 0.35       # the width of the bars: can also be len(x) sequence\n",
    "\n",
    "fig, ax = plt.subplots()\n",
    "\n",
    "ax.bar(labels, train_means, width, yerr=train_std, label='Train')\n",
    "ax.bar(labels, val_means, width, bottom = train_means, yerr=val_std, label='Val')\n",
    "ax.bar(labels, test_means, width, bottom = train_means + val_means, yerr=test_std, label='Test')\n",
    "\n",
    "ax.set_xticks(range(0, 10, 1))\n",
    "ax.set_ylabel('# item')\n",
    "ax.legend()\n",
    "\n",
    "plt.show()"
   ]
  },
  {
   "cell_type": "code",
   "execution_count": null,
   "metadata": {},
   "outputs": [],
   "source": [
    "import classical_part, entangled_circuit, numpy as np\n",
    "import matplotlib.pyplot as plt\n",
    "counts_train = []\n",
    "counts_val = []\n",
    "counts_test = []\n",
    "for _ in range(0, 20):\n",
    "    _, y_train, _, y_val, _, y_test = classical_part.load_mnist(\n",
    "            1200, 300, 300, entangled_circuit.quanvolutional)\n",
    "    y_train = list(np.argmax(y_train, axis=1))\n",
    "    y_val = list(np.argmax(y_val, axis=1))\n",
    "    y_test = list(np.argmax(y_test, axis=1))\n",
    "\n",
    "    temp_train = np.zeros((10))\n",
    "    temp_val = np.zeros((10))\n",
    "    temp_test = np.zeros((10))\n",
    "    for i in range(0, 10):\n",
    "        temp_train[i] = y_train.count(i)\n",
    "        temp_val[i] += (y_val.count(i))\n",
    "        temp_test[i] += (y_test.count(i))\n",
    "    counts_train.append(temp_train)\n",
    "    counts_val.append(temp_val)\n",
    "    counts_test.append(temp_test)\n",
    "counts_train = np.asarray(counts_train)\n",
    "counts_val = np.asarray(counts_val)\n",
    "counts_test = np.asarray(counts_test)\n"
   ]
  }
 ],
 "metadata": {
  "kernelspec": {
   "display_name": "Python 3.8.0 64-bit",
   "language": "python",
   "name": "python3"
  },
  "language_info": {
   "codemirror_mode": {
    "name": "ipython",
    "version": 3
   },
   "file_extension": ".py",
   "mimetype": "text/x-python",
   "name": "python",
   "nbconvert_exporter": "python",
   "pygments_lexer": "ipython3",
   "version": "3.8.0"
  },
  "orig_nbformat": 4,
  "vscode": {
   "interpreter": {
    "hash": "b6314cf850edbae231b80224200c9e1580e03453e86236ed42ea1b49b1f8d2e3"
   }
  }
 },
 "nbformat": 4,
 "nbformat_minor": 2
}
