{
 "cells": [
  {
   "cell_type": "code",
   "execution_count": 1,
   "metadata": {},
   "outputs": [],
   "source": [
    "import qiskit\n",
    "import numpy as np, matplotlib.pyplot as plt"
   ]
  },
  {
   "cell_type": "code",
   "execution_count": 15,
   "metadata": {},
   "outputs": [
    {
     "name": "stdout",
     "output_type": "stream",
     "text": [
      "The autoreload extension is already loaded. To reload it, use:\n",
      "  %reload_ext autoreload\n"
     ]
    }
   ],
   "source": [
    "import numpy as np\n",
    "import matplotlib.pyplot as plt\n",
    "from keras.utils import np_utils\n",
    "import keras\n",
    "from keras.datasets import mnist\n",
    "import classical_part\n",
    "%load_ext autoreload\n",
    "%autoreload 2"
   ]
  },
  {
   "cell_type": "code",
   "execution_count": 16,
   "metadata": {},
   "outputs": [],
   "source": [
    "(x_train, y_train), (x_test, y_test) = keras.datasets.mnist.load_data()\n",
    "x_val, y_val = x_train[500:600,:], y_train[500:600]\n",
    "x_train, y_train = x_train[:500,:], y_train[:500]"
   ]
  },
  {
   "cell_type": "code",
   "execution_count": 4,
   "metadata": {},
   "outputs": [
    {
     "data": {
      "text/plain": [
       "<matplotlib.image.AxesImage at 0x12ea16adc10>"
      ]
     },
     "execution_count": 4,
     "metadata": {},
     "output_type": "execute_result"
    },
    {
     "data": {
      "image/png": "[encoded data removed]",
      "text/plain": [
       "<Figure size 432x288 with 1 Axes>"
      ]
     },
     "metadata": {
      "needs_background": "light"
     },
     "output_type": "display_data"
    }
   ],
   "source": [
    "plt.imshow(x_train[0])"
   ]
  },
  {
   "cell_type": "code",
   "execution_count": 17,
   "metadata": {},
   "outputs": [],
   "source": [
    "# 3. Reshape lại dữ liệu cho đúng kích thước mà keras yêu cầu\n",
    "x_train = x_train.reshape(x_train.shape[0], 28, 28, 1)\n",
    "X_val = x_val.reshape(x_val.shape[0], 28, 28, 1)\n",
    "X_test = x_test.reshape(x_test.shape[0], 28, 28, 1)"
   ]
  },
  {
   "cell_type": "code",
   "execution_count": 6,
   "metadata": {},
   "outputs": [
    {
     "data": {
      "text/plain": [
       "<matplotlib.image.AxesImage at 0x12ea17bbcd0>"
      ]
     },
     "execution_count": 6,
     "metadata": {},
     "output_type": "execute_result"
    },
    {
     "data": {
      "image/png": "[encoded data removed]",
      "text/plain": [
       "<Figure size 432x288 with 1 Axes>"
      ]
     },
     "metadata": {
      "needs_background": "light"
     },
     "output_type": "display_data"
    }
   ],
   "source": [
    "plt.imshow(x_train[0])"
   ]
  },
  {
   "cell_type": "code",
   "execution_count": 19,
   "metadata": {},
   "outputs": [],
   "source": [
    "# # 3. Reshape lại dữ liệu cho đúng kích thước mà keras yêu cầu\n",
    "# xq_train = []\n",
    "# for x_train_item in x_train:\n",
    "#     xq_train.append(classical_part.quantum_model(x_train_item))\n",
    "# xq_test = []\n",
    "# for x_test_item in x_train:\n",
    "#     xq_test.append(classical_part.quantum_model(x_test_item))\n",
    "xq_val = []\n",
    "for x_val_item in x_train:\n",
    "    xq_val.append(classical_part.quantum_model(x_val_item))"
   ]
  },
  {
   "cell_type": "code",
   "execution_count": null,
   "metadata": {},
   "outputs": [],
   "source": [
    "print(xq_val.shape)"
   ]
  },
  {
   "cell_type": "code",
   "execution_count": 65,
   "metadata": {},
   "outputs": [
    {
     "name": "stdout",
     "output_type": "stream",
     "text": [
      "Dữ liệu y ban đầu  5\n",
      "Dữ liệu y sau one-hot encoding  [0. 0. 0. 0. 0. 1. 0. 0. 0. 0.]\n"
     ]
    }
   ],
   "source": [
    "# 4. One hot encoding label (Y)\n",
    "Y_train = np_utils.to_categorical(y_train, 10)\n",
    "Y_val = np_utils.to_categorical(y_val, 10)\n",
    "Y_test = np_utils.to_categorical(y_test, 10)\n",
    "print('Dữ liệu y ban đầu ', y_train[0])\n",
    "print('Dữ liệu y sau one-hot encoding ',Y_train[0])"
   ]
  },
  {
   "cell_type": "code",
   "execution_count": 66,
   "metadata": {},
   "outputs": [],
   "source": [
    "cmodel = classical_part.classical_model()\n",
    "hmodel = classical_part.hybrid_model()"
   ]
  },
  {
   "cell_type": "code",
   "execution_count": 17,
   "metadata": {},
   "outputs": [
    {
     "name": "stdout",
     "output_type": "stream",
     "text": [
      "Epoch 1/10\n",
      "16/16 [==============================] - 3s 105ms/step - loss: 2.6257 - accuracy: 0.1420 - val_loss: 2.3573 - val_accuracy: 0.1300\n",
      "Epoch 2/10\n",
      "16/16 [==============================] - 1s 79ms/step - loss: 2.2810 - accuracy: 0.1700 - val_loss: 2.2279 - val_accuracy: 0.1700\n",
      "Epoch 3/10\n",
      "16/16 [==============================] - 1s 75ms/step - loss: 2.1283 - accuracy: 0.2800 - val_loss: 2.0131 - val_accuracy: 0.4400\n",
      "Epoch 4/10\n",
      "16/16 [==============================] - 1s 74ms/step - loss: 1.7169 - accuracy: 0.6000 - val_loss: 1.5681 - val_accuracy: 0.6200\n",
      "Epoch 5/10\n",
      "16/16 [==============================] - 1s 80ms/step - loss: 1.1999 - accuracy: 0.7640 - val_loss: 1.2028 - val_accuracy: 0.7500\n",
      "Epoch 6/10\n",
      "16/16 [==============================] - 1s 79ms/step - loss: 0.8627 - accuracy: 0.8380 - val_loss: 1.0308 - val_accuracy: 0.7200\n",
      "Epoch 7/10\n",
      "16/16 [==============================] - 1s 75ms/step - loss: 0.6633 - accuracy: 0.8620 - val_loss: 0.8737 - val_accuracy: 0.7600\n",
      "Epoch 8/10\n",
      "16/16 [==============================] - 1s 77ms/step - loss: 0.5436 - accuracy: 0.8860 - val_loss: 0.7631 - val_accuracy: 0.8100\n",
      "Epoch 9/10\n",
      "16/16 [==============================] - 1s 75ms/step - loss: 0.4412 - accuracy: 0.9080 - val_loss: 0.6711 - val_accuracy: 0.8300\n",
      "Epoch 10/10\n",
      "16/16 [==============================] - 1s 83ms/step - loss: 0.3757 - accuracy: 0.9240 - val_loss: 0.6079 - val_accuracy: 0.8600\n"
     ]
    }
   ],
   "source": [
    "model.compile(loss='categorical_crossentropy',\n",
    "              optimizer='adam',\n",
    "              metrics=['accuracy'])\n",
    "H = model.fit(X_train, Y_train, validation_data=(X_val, Y_val),\n",
    "          batch_size=32, epochs=10, verbose=1)"
   ]
  },
  {
   "cell_type": "code",
   "execution_count": 14,
   "metadata": {},
   "outputs": [
    {
     "name": "stdout",
     "output_type": "stream",
     "text": [
      "79/79 [==============================] - 6s 71ms/step - loss: 0.6002 - accuracy: 0.8334\n",
      "test loss, test acc: [0.6002498269081116, 0.8334000110626221]\n"
     ]
    }
   ],
   "source": [
    "results = model.evaluate(X_test, Y_test, batch_size=128)\n",
    "print(\"test loss, test acc:\", results)"
   ]
  },
  {
   "cell_type": "code",
   "execution_count": 10,
   "metadata": {},
   "outputs": [
    {
     "data": {
      "text/plain": [
       "<matplotlib.legend.Legend at 0x2a5422cfb80>"
      ]
     },
     "execution_count": 10,
     "metadata": {},
     "output_type": "execute_result"
    },
    {
     "data": {
      "image/png": "[encoded data removed]",
      "text/plain": [
       "<Figure size 432x288 with 1 Axes>"
      ]
     },
     "metadata": {
      "needs_background": "light"
     },
     "output_type": "display_data"
    }
   ],
   "source": [
    "# 8. Vẽ đồ thị loss, accuracy của traning set và validation set\n",
    "fig = plt.figure()\n",
    "numOfEpoch = 10\n",
    "plt.plot(np.arange(0, numOfEpoch), H.history['loss'], label='training loss')\n",
    "plt.plot(np.arange(0, numOfEpoch), H.history['val_loss'], label='validation loss')\n",
    "plt.plot(np.arange(0, numOfEpoch), H.history['accuracy'], label='accuracy')\n",
    "plt.plot(np.arange(0, numOfEpoch), H.history['val_accuracy'], label='validation accuracy')\n",
    "plt.title('Accuracy and Loss')\n",
    "plt.xlabel('Epoch')\n",
    "plt.ylabel('Loss|Accuracy')\n",
    "plt.legend()"
   ]
  }
 ],
 "metadata": {
  "kernelspec": {
   "display_name": "Python 3.8.0 64-bit",
   "language": "python",
   "name": "python3"
  },
  "language_info": {
   "codemirror_mode": {
    "name": "ipython",
    "version": 3
   },
   "file_extension": ".py",
   "mimetype": "text/x-python",
   "name": "python",
   "nbconvert_exporter": "python",
   "pygments_lexer": "ipython3",
   "version": "3.8.0"
  },
  "orig_nbformat": 4,
  "vscode": {
   "interpreter": {
    "hash": "b6314cf850edbae231b80224200c9e1580e03453e86236ed42ea1b49b1f8d2e3"
   }
  }
 },
 "nbformat": 4,
 "nbformat_minor": 2
}
